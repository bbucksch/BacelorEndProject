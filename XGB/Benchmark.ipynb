{
 "cells": [
  {
   "cell_type": "code",
   "execution_count": 1,
   "metadata": {},
   "outputs": [],
   "source": [
    "import pandas as pd\n",
    "import numpy as np\n",
    "from sklearn.model_selection import train_test_split\n",
    "from xgboost import XGBRegressor\n",
    "from sklearn.multioutput import MultiOutputRegressor\n",
    "from sklearn.metrics import mean_absolute_error, mean_squared_error\n",
    "import matplotlib.pyplot as plt\n",
    "import pickle\n",
    "import seaborn as sns\n",
    "\n",
    "import holidays"
   ]
  },
  {
   "cell_type": "code",
   "execution_count": 2,
   "metadata": {},
   "outputs": [],
   "source": [
    "# GET FORMATTED DATA (IN DATE-TIME) AND TRAIN-TEST SPLIT\n",
    "\n",
    "def date_formatting(bus):\n",
    "\n",
    "    df = pd.read_csv(f\"./data/bus_{bus}_load.csv\")\n",
    "    df.index = pd.to_datetime(df.index, unit='h', origin=pd.Timestamp(\"2018-01-01\"))\n",
    "\n",
    "    # training_data = df[df.index < split_date] # Splitting data now will cause it to lose 24 training datapoints and 24*7 test datapoints\n",
    "    # test_data = df[df.index >= split_date]\n",
    "\n",
    "    return df\n",
    "    "
   ]
  },
  {
   "cell_type": "code",
   "execution_count": 5,
   "metadata": {},
   "outputs": [],
   "source": [
    "# GET X,Y SPLIT IN TRAIN, TEST\n",
    "\n",
    "def split_train_test(x, y, lag_size, split_date=\"2018-10-16\", train_val_split=0.8): # Timestep 6912\n",
    "\n",
    "    original_timestep = (pd.Timestamp(split_date) - pd.Timestamp(\"2018-01-01 00:00:00\")).total_seconds()/3600 # Get original timestep (hour) from split date\n",
    "    split_timestep = int(original_timestep - lag_size) # Split timestep in the new dataframe (starts at timestep lag_size)\n",
    "    \n",
    "    x_tr = x[:split_timestep]\n",
    "    y_tr = y[:split_timestep]\n",
    "\n",
    "    x_train, x_val = x_tr[:int(train_val_split * len(x_tr))], x_tr[int(train_val_split * len(x_tr)):] # Split in train and validation\n",
    "    y_train, y_val = y_tr[:int(train_val_split * len(y_tr))], y_tr[int(train_val_split * len(y_tr)):]\n",
    "\n",
    "    x_test = x[split_timestep:]\n",
    "    y_test = y[split_timestep:]\n",
    "\n",
    "    return x_train, y_train, x_val, y_val, x_test, y_test"
   ]
  },
  {
   "cell_type": "code",
   "execution_count": 37,
   "metadata": {},
   "outputs": [],
   "source": [
    "bus1_df = date_formatting(2)"
   ]
  },
  {
   "cell_type": "code",
   "execution_count": 54,
   "metadata": {},
   "outputs": [],
   "source": [
    "def create_benchmark(df, t, split_date=6912):\n",
    "    y = df[\"Load\"].to_numpy()[t:]\n",
    "    y_pred = df[\"Load\"].to_numpy()[:-t]\n",
    "\n",
    "    y_train_pred, y_test_pred = y_pred[:split_date], y_pred[split_date:]\n",
    "    y_train, y_test = y[:split_date], y[split_date:]\n",
    "\n",
    "    return y_train_pred, y_train, y_test_pred, y_test"
   ]
  },
  {
   "cell_type": "code",
   "execution_count": 55,
   "metadata": {},
   "outputs": [],
   "source": [
    "def get_scores(df, t):\n",
    "\n",
    "    y_train_pred, y_train, y_test_pred, y_test = create_benchmark(df, t)\n",
    "\n",
    "    train_score = mean_absolute_error(y_train_pred, y_train)\n",
    "    test_score = mean_absolute_error(y_test_pred, y_test)\n",
    "\n",
    "    return {\"Train\": train_score, \"Test\": test_score}"
   ]
  },
  {
   "cell_type": "code",
   "execution_count": 57,
   "metadata": {},
   "outputs": [],
   "source": [
    "allbus_scores = {}\n",
    "\n",
    "for b in range(1,29):\n",
    "    bus_df = date_formatting(b)\n",
    "    scores = {}\n",
    "    \n",
    "    for t in [1, 24, 24*7]:\n",
    "        scores[f\"{t}h\"] = get_scores(bus_df, t)\n",
    "    \n",
    "    allbus_scores[b] = scores\n",
    "    "
   ]
  },
  {
   "cell_type": "code",
   "execution_count": 58,
   "metadata": {},
   "outputs": [],
   "source": [
    "with open(\"./benchmark_scores.pkl\", \"wb\") as f:\n",
    "    pickle.dump(allbus_scores, f)"
   ]
  },
  {
   "cell_type": "code",
   "execution_count": 53,
   "metadata": {},
   "outputs": [
    {
     "name": "stdout",
     "output_type": "stream",
     "text": [
      "{'Train': 8.738796727916686, 'Test': 12.632438489114529}\n"
     ]
    }
   ],
   "source": [
    "print(scores[f\"{24*7}h\"])"
   ]
  }
 ],
 "metadata": {
  "kernelspec": {
   "display_name": "base",
   "language": "python",
   "name": "python3"
  },
  "language_info": {
   "codemirror_mode": {
    "name": "ipython",
    "version": 3
   },
   "file_extension": ".py",
   "mimetype": "text/x-python",
   "name": "python",
   "nbconvert_exporter": "python",
   "pygments_lexer": "ipython3",
   "version": "3.9.12"
  }
 },
 "nbformat": 4,
 "nbformat_minor": 2
}
