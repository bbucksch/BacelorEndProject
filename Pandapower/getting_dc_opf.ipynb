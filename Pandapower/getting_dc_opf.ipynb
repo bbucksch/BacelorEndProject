{
 "cells": [
  {
   "cell_type": "code",
   "execution_count": null,
   "metadata": {},
   "outputs": [],
   "source": [
    "import pandapower as pp\n",
    "import pandas as pd\n",
    "import numpy as np\n",
    "from pandapower.timeseries.output_writer import OutputWriter\n",
    "\n",
    "\n",
    "# Install pandapower in a new environment by pip install pandapower==2.13.1\n",
    "net = pp.from_pickle('C:/Users/bjorn/OneDrive/Documents/TU Delft/BEP/TUD Library/bap/aggregated_grid_2018_with_generators_loads_costs_controllers.p')\n",
    "\n",
    "out_path = \"C:/Users/bjorn/OneDrive/Documents/TU Delft/BEP/TUD Library/bap/OPF\"\n",
    "ow = OutputWriter(net, output_path=out_path, output_file_type=\".csv\", csv_separator=\",\")\n",
    "# ow.remove_log_variable(\"res_gen\", \"vm_pu\")"
   ]
  },
  {
   "cell_type": "code",
   "execution_count": null,
   "metadata": {},
   "outputs": [],
   "source": [
    "# TIMESTEP-WISE SIMULATION TO GET SIMULATED VALUES\n",
    "\n",
    "\n",
    "# Single time values\n",
    "def get_simulated_values(t):\n",
    "    for controller in net.controller.object:\n",
    "        controller.time_step(t, net)\n",
    "\n",
    "    pp.runpp(net)"
   ]
  },
  {
   "cell_type": "code",
   "execution_count": null,
   "metadata": {},
   "outputs": [],
   "source": [
    "# GET FROM SIMULATION\n",
    "\n",
    "def get_from_simulation(res_csv, component_numbers):\n",
    "    # Join simulation timeseries dataframes in a dataframe\n",
    "    bus_timesteps = pd.concat([res_csv[f\"{g}\"] for g in component_numbers], axis=1)\n",
    "\n",
    "    return bus_timesteps"
   ]
  },
  {
   "cell_type": "code",
   "execution_count": null,
   "metadata": {},
   "outputs": [],
   "source": [
    "# GET FROM CONTROLLER\n",
    "\n",
    "def get_from_controller(start_controller_number, component_numbers):\n",
    "    # Join controller timeseries dataframes at the same bus in a dataframe\n",
    "    bus_timesteps = pd.concat([net.controller.object[start_controller_number + g].data_source.to_dict()['df'].iloc[:,0] for g in component_numbers], axis=1)\n",
    "\n",
    "    return bus_timesteps"
   ]
  },
  {
   "cell_type": "code",
   "execution_count": null,
   "metadata": {},
   "outputs": [],
   "source": [
    "# GET AGGREGATED DATA\n",
    "\n",
    "total_bus_numbers = net.bus.index\n",
    "\n",
    "def get_aggregated_x(res_x, bus_gens, get_from):\n",
    "    # res_x = csv for get_from_csv or start controller number for get_from_controller\n",
    "    gen_busses_x = [] # List of timestep-wise gen x dataframes for each bus\n",
    "\n",
    "    for bus in bus_gens:\n",
    "        # Join timeseries dataframes (q_mvar, vm_pu and va_degree) at the same bus in a dataframe\n",
    "        bus_timesteps = get_from(res_x, bus)\n",
    "\n",
    "        # Add timestep-wise values together\n",
    "        bus_timesteps_total = bus_timesteps.sum(axis=1)\n",
    "        \n",
    "        gen_busses_x.append(bus_timesteps_total)\n",
    "\n",
    "    gen_x = pd.concat(gen_busses_x, axis=1) # Put busses together in one df (rows = timesteps, columns = buses)\n",
    "\n",
    "    gen_x.columns = bus_gens.index # Column names to bus numbers\n",
    "\n",
    "    gen_x = gen_x.reindex(range(total_bus_numbers[0], total_bus_numbers[-1] + 1), axis=1, fill_value=0) # Fill missing bus numbers with q_mvar = 0\n",
    "    \n",
    "    return gen_x\n",
    "\n",
    "\n",
    "\n",
    "# gen_busses_q_mvar = [] \n",
    "# gen_busses_vm_pu = []\n",
    "# gen_busses_va_degree = []\n",
    "\n",
    "\n",
    "\n",
    "# for bus in bus_gens:\n",
    "#     # Join timeseries dataframes (q_mvar, vm_pu and va_degree) at the same bus in a dataframe\n",
    "#     bus_timesteps = pd.concat([res_q_mvar[f\"{g}\"] for g in bus], axis=1)\n",
    "#     bus_timesteps_vm = pd.concat([res_vm_pu[f\"{vm}\"] for vm in bus], axis=1)\n",
    "#     bus_timesteps_va = pd.concat([res_va_degree[f\"{va}\"] for va in bus], axis=1)\n",
    "\n",
    "#     # Add timestep-wise values together\n",
    "#     bus_timesteps_total = bus_timesteps.sum(axis=1)\n",
    "#     bus_timesteps_total_vm = bus_timesteps_vm.sum(axis=1)\n",
    "#     bus_timesteps_total_va = bus_timesteps_va.sum(axis=1)\n",
    "\n",
    "#     gen_busses_x.append(bus_timesteps_total)\n",
    "#     gen_busses_vm_pu.append(bus_timesteps_total_vm)    \n",
    "#     gen_busses_va_degree.append(bus_timesteps_total_va)\n",
    "\n",
    "# gen_q_mvar = pd.concat(gen_busses_x, axis=1) # Put busses together in one df (rows = timesteps, columns = buses)\n",
    "# gen_vm_pu = pd.concat(gen_busses_vm_pu, axis=1) # Put busses together in one df (rows = timesteps, columns = buses)\n",
    "# gen_va_degree = pd.concat(gen_busses_va_degree, axis=1) # Put busses together in one df (rows = timesteps, columns = buses)\n",
    "\n",
    "# gen_q_mvar.columns = bus_gens.index # Column names to bus numbers\n",
    "# gen_vm_pu.columns = bus_gens.index # Column names to bus numbers\n",
    "# gen_va_degree.columns = bus_gens.index # Column names to bus numbers\n",
    "\n",
    "# gen_q_mvar = gen_q_mvar.reindex(range(total_bus_numbers[0], total_bus_numbers[-1] + 1), axis=1, fill_value=0) # Fill missing bus numbers with q_mvar = 0\n",
    "# gen_vm_pu = gen_vm_pu.reindex(range(total_bus_numbers[0], total_bus_numbers[-1] + 1), axis=1, fill_value=0) # Fill missing bus numbers with q_mvar = 0\n",
    "# gen_va_degree = gen_va_degree.reindex(range(total_bus_numbers[0], total_bus_numbers[-1] + 1), axis=1, fill_value=0) # Fill missing bus numbers with q_mvar = 0\n",
    "\n",
    "# gen_vm_pu.head(100)    \n"
   ]
  },
  {
   "cell_type": "code",
   "execution_count": null,
   "metadata": {},
   "outputs": [],
   "source": [
    "# CREATE LOAD Q_MVAR\n",
    "\n",
    "pf = 0.95 #Using a power factor 0.95\n",
    "p_to_q = np.sin(np.arccos(pf))/pf # P to Q constant\n",
    "\n",
    "loads_p_mw = get_from_controller(0, net.load.index) # All controller p_mw data\n",
    "\n",
    "loads_q_mvar = loads_p_mw.mul(p_to_q)\n",
    "\n",
    "loads_q_mvar.head(50)\n"
   ]
  },
  {
   "cell_type": "code",
   "execution_count": null,
   "metadata": {},
   "outputs": [],
   "source": [
    "# CREATE LOAD Q_MVAR CONTROLLER\n",
    "\n",
    "for l in range(len(net.load.index)):\n",
    "    controller_load_q_mvar = loads_p_mw.iloc[:, l].multiply(p_to_q)\n",
    "    dataset = controller_load_q_mvar.to_frame()\n",
    "    prof_name = dataset.columns[0]\n",
    "    dataset = pp.timeseries.data_sources.frame_data.DFData(dataset)\n",
    "    \n",
    "    pp.control.controller.const_control.ConstControl(net, \"load\", \"q_mvar\", element_index=l, \n",
    "                                                 data_source=dataset, \n",
    "                                                 recycle={'trafo': False, 'gen': False, 'bus_pq': True}, \n",
    "                                                 profile_name=prof_name)\n",
    "\n",
    "net.controller"
   ]
  },
  {
   "cell_type": "code",
   "execution_count": null,
   "metadata": {},
   "outputs": [],
   "source": [
    "# GET SIMULATION RESULTS\n",
    "\n",
    "ow.log_variable('res_bus', 'vm_pu') # add logging for bus voltage magnitudes\n",
    "ow.log_variable('res_bus', 'va_degree') # add logging for bus voltage degree\n",
    "ow.log_variable('res_bus', 'p_mw') # add logging for bus voltage power\n",
    "ow.log_variable('res_bus', 'q_mvar') # add logging for bus voltage reactive power\n",
    "\n",
    "ow.log_variable('res_line', 'loading_percent') # add logging for line loadings in percent\n",
    "\n",
    "ow.log_variable('res_gen', 'p_mw')\n",
    "ow.log_variable('res_gen', \"q_mvar\")\n",
    "ow.log_variable('res_gen', \"va_degree\")\n",
    "ow.log_variable('res_gen', \"vm_pu\")\n",
    "\n",
    "ow.log_variable('res_sgen', 'p_mw')\n",
    "ow.log_variable('res_sgen', 'q_mvar')\n",
    "\n",
    "ow.log_variable('res_load', 'p_mw')\n",
    "ow.log_variable('res_load', 'q_mvar')\n",
    "\n",
    "# def get_simulated_timeseries(t_init, t_total):\n",
    "#     pp.timeseries.run_time_series.run_timeseries(net, time_steps=range(t_init,t_init + t_total))\n",
    "\n",
    "# get_simulated_timeseries(0, 24)\n",
    "\n",
    "pp.timeseries.run_timeseries(net, run=pp.rundcopp)"
   ]
  },
  {
   "cell_type": "code",
   "execution_count": null,
   "metadata": {},
   "outputs": [],
   "source": [
    "# SWAPPING SLACK BUS (35)\n",
    "\n",
    "def swap_slack(df, slack_number): # Switch slack bus position\n",
    "    df.iloc[:, 0], df.iloc[:, slack_number] = df.iloc[:, slack_number], df.iloc[:, 0]\n",
    "\n",
    "slack_bus = 35"
   ]
  },
  {
   "cell_type": "code",
   "execution_count": null,
   "metadata": {},
   "outputs": [],
   "source": [
    "# GET GENERATION P_MW\n",
    "\n",
    "gen_active = net.gen.loc[net.gen[\"in_service\"] == True] # Drop unused generators\n",
    "bus_gens = gen_active.groupby(\"bus\").apply(lambda x: x.index.tolist()) # Group generators by bus\n",
    "\n",
    "res_gen_p_mw = pd.read_csv(out_path + \"/res_gen/p_mw.csv\") # Read from simulation result\n",
    "\n",
    "gen_p_mw = get_aggregated_x(res_gen_p_mw, bus_gens, get_from_simulation) # Get bus-aggregated generation\n",
    "\n",
    "swap_slack(gen_p_mw, slack_bus)\n",
    "\n",
    "# gen_p_mw.head(50)"
   ]
  },
  {
   "cell_type": "code",
   "execution_count": null,
   "metadata": {},
   "outputs": [],
   "source": [
    "# GET BUS VM_PU\n",
    "# 1 if PV or slack node, else unknown\n",
    "slack_active = net.ext_grid.loc[net.ext_grid[\"in_service\"] == True]\n",
    "\n",
    "vm_pu = pd.Series([1 if (i in bus_gens.index or i in slack_active.bus.to_list()) \n",
    "                   else None for i in total_bus_numbers])\n",
    "\n",
    "vm_pu[0], vm_pu[slack_bus] = vm_pu[slack_bus], vm_pu[0]\n",
    "\n",
    "# vm_pu"
   ]
  },
  {
   "cell_type": "code",
   "execution_count": null,
   "metadata": {},
   "outputs": [],
   "source": [
    "# GET LOAD P_MW\n",
    "\n",
    "bus_loads = net.load.groupby(\"bus\").apply(lambda x: x.index.tolist()) # Group loads by bus\n",
    "\n",
    "load_p_mw = get_aggregated_x(0, bus_loads, get_from_controller)\n",
    "\n",
    "# Print load P_MW for forecasting:\n",
    "# load_p_mw.to_csv(out_path + \"/total_load.csv\")\n",
    "\n",
    "swap_slack(load_p_mw, slack_bus)\n",
    "\n",
    "load_p_mw.head(50)"
   ]
  },
  {
   "cell_type": "code",
   "execution_count": null,
   "metadata": {},
   "outputs": [],
   "source": [
    "# GET LOAD Q_MVAR\n",
    "\n",
    "load_q_mvar = load_p_mw.mul(p_to_q)\n",
    "\n",
    "load_q_mvar.head(50)"
   ]
  },
  {
   "cell_type": "code",
   "execution_count": null,
   "metadata": {},
   "outputs": [],
   "source": [
    "# GET SGEN P_MW\n",
    "\n",
    "sgen_active = net.sgen.loc[net.sgen[\"in_service\"] == True] # Drop unused sgens\n",
    "bus_sgens = sgen_active.groupby(\"bus\").apply(lambda x: x.index.tolist()) # Group sgens by bus\n",
    "\n",
    "res_sgen_p_mw = pd.read_csv(out_path + \"/res_sgen/p_mw.csv\") # Read from simulation result\n",
    "\n",
    "sgen_p_mw = get_aggregated_x(res_sgen_p_mw, bus_sgens, get_from_simulation) # Get bus aggregated sgen\n",
    "\n",
    "swap_slack(sgen_p_mw, slack_bus)\n",
    "\n",
    "sgen_p_mw.head(50)\n"
   ]
  },
  {
   "cell_type": "code",
   "execution_count": null,
   "metadata": {},
   "outputs": [],
   "source": [
    "# SGEN Q_MVAR = 0\n",
    "\n",
    "sgen_q_mvar = np.zeros(len(total_bus_numbers))"
   ]
  },
  {
   "cell_type": "code",
   "execution_count": null,
   "metadata": {},
   "outputs": [],
   "source": [
    "# GET SLACK WEIGHT\n",
    "\n",
    "slack_weight = [1 if i in slack_active.bus.to_list() else 0 for i in total_bus_numbers]\n",
    "slack_weight[0], slack_weight[slack_bus] = slack_weight[slack_bus], slack_weight[0]\n",
    "\n",
    "slack = slack_weight # Slack yes or no\n",
    "\n",
    "print(slack_weight)"
   ]
  },
  {
   "cell_type": "code",
   "execution_count": null,
   "metadata": {},
   "outputs": [],
   "source": [
    "# GET EMPTY BUSES\n",
    "\n",
    "active_bus = set(net.load.bus.to_list())\n",
    "active_bus.update(gen_active.bus.to_list())\n",
    "active_bus.update(sgen_active.bus.to_list())\n",
    "active_bus.update(slack_active.bus.to_list())\n",
    "\n",
    "empty_bus = [bus for bus in total_bus_numbers if bus not in active_bus]\n",
    "\n",
    "for i range(len(empty_bus)):\n",
    "    if empty_bus[i] == 0:\n",
    "        empty_bus[i] = slack_bus\n",
    "    elif empty_bus[i] == slack_bus:\n",
    "        empty_bus[i] = 0\n",
    "\n",
    "print(empty_bus)"
   ]
  },
  {
   "cell_type": "code",
   "execution_count": null,
   "metadata": {},
   "outputs": [],
   "source": [
    "# GET BUS TYPE\n",
    "\n",
    "bus_type = np.where(vm_pu == 1, 2, 3) # 2 if PV (or slack), 3 if PQ (or empty/not in service)\n",
    "bus_type[0] = 1\n",
    "\n",
    "print(bus_type)"
   ]
  },
  {
   "cell_type": "code",
   "execution_count": null,
   "metadata": {},
   "outputs": [],
   "source": [
    "# GET BUS ANGLE\n",
    "\n",
    "va_degree = np.where(np.array(slack) == 1, 0, None)\n",
    "\n",
    "print(va_degree)"
   ]
  },
  {
   "cell_type": "code",
   "execution_count": null,
   "metadata": {},
   "outputs": [],
   "source": [
    "# JOIN LOAD AND SGEN\n",
    "\n",
    "load_sgen_p_mw = load_p_mw.subtract(sgen_p_mw)\n",
    "load_sgen_q_mvar = load_q_mvar.subtract(sgen_q_mvar)\n",
    "\n",
    "load_sgen_p_mw.head(5)"
   ]
  },
  {
   "cell_type": "code",
   "execution_count": null,
   "metadata": {},
   "outputs": [],
   "source": [
    "# GET MAX AND MIN GEN MVAR\n",
    "\n",
    "min_gen_q_mvar = gen_active.groupby(\"bus\")[\"min_q_mvar\"].sum()\n",
    "min_gen_q_mvar = min_gen_q_mvar.reindex(range(total_bus_numbers[0], total_bus_numbers[-1] + 1), fill_value=None) # Fill missing buses with none\n",
    "\n",
    "max_gen_q_mvar = gen_active.groupby(\"bus\")[\"max_q_mvar\"].sum()\n",
    "max_gen_q_mvar = max_gen_q_mvar.reindex(range(total_bus_numbers[0], total_bus_numbers[-1] + 1), fill_value=None) # Fill missing buses with none\n",
    "\n",
    "min_gen_q_mvar"
   ]
  },
  {
   "cell_type": "code",
   "execution_count": null,
   "metadata": {},
   "outputs": [],
   "source": [
    "# GET USER SOLAR AND WIND BUSSES\n",
    "\n",
    "extra_bus = pd.Series([2, 1, None, None, None, 0, 0, 1000000, -1000000, 0, 0])\n",
    "extra_buses = pd.DataFrame([extra_bus, extra_bus])\n",
    "extra_buses.columns = [\"Type\", \"PU Volt\", \"Angle (Deg)\", \"Gen MW\", \"Gen Mvar\", \"Load MW\", \"Load Mvar\", \n",
    "                       \"Gen Mvar(max)\", \"Gen Mvar(min)\", \"Slack yes,no\", \"Slack Weight\"]\n",
    "extra_buses"
   ]
  },
  {
   "cell_type": "code",
   "execution_count": null,
   "metadata": {},
   "outputs": [],
   "source": [
    "def to_pu(power, sbase=100.0):\n",
    "    return np.divide(power, sbase)"
   ]
  },
  {
   "cell_type": "code",
   "execution_count": null,
   "metadata": {},
   "outputs": [],
   "source": [
    "# GETTING ALL DATA FOR ONE TIMESTEP\n",
    "\n",
    "nones = [None for _ in total_bus_numbers]\n",
    "\n",
    "def get_timestep(t):\n",
    "    timestep = pd.DataFrame(data={\"Type\": bus_type, \"PU Volt\": vm_pu.values, \"Angle (Deg)\":va_degree, \"Gen MW\": to_pu(gen_p_mw.iloc[t].values), \n",
    "                                  \"Gen Mvar\": nones, \"Load MW\": to_pu(load_sgen_p_mw.iloc[t].values), \n",
    "                                  \"Load Mvar\": to_pu(load_sgen_q_mvar.iloc[t].values), \"Gen Mvar(max)\": to_pu(max_gen_q_mvar), \n",
    "                                  \"Gen Mvar(min)\": to_pu(min_gen_q_mvar), \"Slack yes,no\": slack, \"Slack Weight\": slack_weight})\n",
    "    \n",
    "    timestep = pd.concat([timestep, extra_buses], axis=0, ignore_index=True) # Add solar and wind bus\n",
    "    \n",
    "    return timestep\n",
    "\n",
    "get_timestep(0).head(50)\n"
   ]
  },
  {
   "cell_type": "code",
   "execution_count": null,
   "metadata": {},
   "outputs": [],
   "source": [
    "# CREATING THE CSV WITH ALL TIMESTEPS\n",
    "\n",
    "def create_csv(t_init, t_duration, index=True):\n",
    "    result = pd.concat([get_timestep(t) for t in range(t_init, t_init + t_duration)], axis=0)\n",
    "    \n",
    "    result.to_csv(out_path + \"/busInputData.csv\", index=index)"
   ]
  },
  {
   "cell_type": "code",
   "execution_count": null,
   "metadata": {},
   "outputs": [],
   "source": [
    "create_csv(0, 72, index=False)"
   ]
  },
  {
   "cell_type": "code",
   "execution_count": null,
   "metadata": {},
   "outputs": [],
   "source": [
    "# TESTING OPF\n",
    "\n",
    "res_load_p_mw = pd.read_csv(out_path + \"/res_load/p_mw.csv\") # Read from simulation result\n",
    "res_load_q_mvar = res_load_p_mw.mul(p_to_q)\n",
    "\n",
    "def run_simulation(t_init=0, t_final=8760, function=pp.runpp):\n",
    "\n",
    "    # init_load = net.load[[\"p_mw\", \"q_mvar\"]]\n",
    "\n",
    "    net.gen[\"vm_pu\"] = np.ones(len(net.gen)) # Set to 1\n",
    "    net.sgen[\"q_mvar\"] = np.zeros(len(net.sgen)) # Set to 0\n",
    "    net.ext_grid[\"vm_pu\"] = np.ones(len(net.ext_grid))\n",
    "    net.ext_grid[\"va_degree\"] = np.zeros(len(net.ext_grid))\n",
    "\n",
    "    res_lp = []\n",
    "    res_lq = []\n",
    "\n",
    "    res_gp = []\n",
    "    res_gq = []\n",
    "    res_gvm = []\n",
    "    res_gva = []\n",
    "\n",
    "    res_sgp = []\n",
    "    res_sgq = []\n",
    "\n",
    "    res_bp = []\n",
    "    res_bq = []\n",
    "    res_bvm = []\n",
    "    res_bva = []\n",
    "\n",
    "    res_l = []\n",
    "\n",
    "    for t in range(t_init, t_final):\n",
    "        net.load[\"p_mw\"] = res_load_p_mw.iloc[t, 1:].values\n",
    "        net.load[\"q_mvar\"] = res_load_q_mvar.iloc[t, 1:].values\n",
    "\n",
    "        net.gen[\"p_mw\"] = res_gen_p_mw.iloc[t, 1:].values\n",
    "\n",
    "        net.sgen[\"p_mw\"] = res_sgen_p_mw.iloc[t, 1:].values\n",
    "\n",
    "        function(net)\n",
    "\n",
    "        res_lp.append(net.res_load[\"p_mw\"].copy().to_frame().T) # load_p_mw\n",
    "        res_lq.append(net.res_load[\"q_mvar\"].copy().to_frame().T) # load_q_mvar\n",
    "\n",
    "        res_gp.append(net.res_gen[\"p_mw\"].copy().to_frame().T) # gen_p_mw\n",
    "        res_gq.append(net.res_gen[\"q_mvar\"].copy().to_frame().T) # gen_q_mvar\n",
    "        res_gvm.append(net.res_gen[\"vm_pu\"].copy().to_frame().T) # gen_vm_pu\n",
    "        res_gva.append(net.res_gen[\"va_degree\"].copy().to_frame().T) # gen_q_mvar\n",
    "\n",
    "        res_sgp.append(net.res_sgen[\"p_mw\"].copy().to_frame().T) # gen_p_mw\n",
    "        res_sgq.append(net.res_sgen[\"q_mvar\"].copy().to_frame().T) # gen_p_mw\n",
    "\n",
    "        res_bp.append(net.res_bus[\"p_mw\"].copy().to_frame().T) # gen_q_mvar\n",
    "        res_bq.append(net.res_bus[\"q_mvar\"].copy().to_frame().T) # gen_q_mvar\n",
    "        res_bvm.append(net.res_bus[\"vm_pu\"].copy().to_frame().T) # gen_q_mvar\n",
    "        res_bva.append(net.res_bus[\"va_degree\"].copy().to_frame().T) # gen_q_mvar\n",
    "\n",
    "        res_l.append(net.res_line[\"loading_percent\"].copy().to_frame().T) # gen_q_mvar\n",
    "\n",
    "    \n",
    "    res_lp = pd.concat(res_lp, axis=0)\n",
    "    res_lq = pd.concat(res_lq, axis=0)\n",
    "\n",
    "    res_gp = pd.concat(res_gp, axis=0)\n",
    "    res_gq = pd.concat(res_gq, axis=0)\n",
    "    res_gvm = pd.concat(res_gvm, axis=0)\n",
    "    res_gva = pd.concat(res_gva, axis=0)\n",
    "\n",
    "    res_sgp = pd.concat(res_sgp, axis=0)\n",
    "    res_sgq = pd.concat(res_sgq, axis=0)\n",
    "\n",
    "    res_bp = pd.concat(res_bp, axis=0)\n",
    "    res_bq = pd.concat(res_bq, axis=0)\n",
    "    res_bvm = pd.concat(res_bvm, axis=0)\n",
    "    res_bva = pd.concat(res_bva, axis=0)\n",
    "\n",
    "    res_l = pd.concat(res_l, axis=0)\n",
    "\n",
    "    return {\"load\": [res_lp, res_lq], \"gen\": [res_gp, res_gq, res_gvm, res_gva], \"sgen\": [res_sgp, res_sgq], \n",
    "            \"bus\": [res_bp, res_bq, res_bvm, res_bva], \"line\": [res_l]}\n",
    "\n",
    "\n",
    "results = run_simulation(t_final=5, function=pp.runpp)\n"
   ]
  },
  {
   "cell_type": "code",
   "execution_count": null,
   "metadata": {},
   "outputs": [],
   "source": [
    "results[\"bus\"][1].head()"
   ]
  }
 ],
 "metadata": {
  "kernelspec": {
   "display_name": "base",
   "language": "python",
   "name": "python3"
  },
  "language_info": {
   "codemirror_mode": {
    "name": "ipython",
    "version": 3
   },
   "file_extension": ".py",
   "mimetype": "text/x-python",
   "name": "python",
   "nbconvert_exporter": "python",
   "pygments_lexer": "ipython3",
   "version": "3.9.12"
  }
 },
 "nbformat": 4,
 "nbformat_minor": 2
}
